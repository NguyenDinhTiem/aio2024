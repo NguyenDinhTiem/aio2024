{
 "cells": [
  {
   "cell_type": "markdown",
   "metadata": {},
   "source": [
    "# LIST PYTHON"
   ]
  },
  {
   "cell_type": "markdown",
   "metadata": {},
   "source": [
    "## 1. List là gì?\n",
    "\n",
    "List là một trong 4 kiểu dữ liệu tập hợp(colections) trong Python, chứa không hay nhiều phần tử có thể có giá trị giống nhau có thứ tự và có thể thay đổi được.\n",
    "List được tạo bởi cặp dấu ngoặc vuông [] bao quanh các phần tử, mỗi phần tử trong list được phân cách nhau bởi dấu phẩy \",\"."
   ]
  },
  {
   "cell_type": "code",
   "execution_count": 2,
   "metadata": {},
   "outputs": [
    {
     "name": "stdout",
     "output_type": "stream",
     "text": [
      "[1, 2, 3, 4, 5]\n"
     ]
    }
   ],
   "source": [
    "my_list = [1, 2, 3, 4, 5]\n",
    "print(my_list)"
   ]
  },
  {
   "cell_type": "markdown",
   "metadata": {},
   "source": [
    "List không chứa phần tử nào là một list rỗng."
   ]
  },
  {
   "cell_type": "code",
   "execution_count": 4,
   "metadata": {},
   "outputs": [
    {
     "name": "stdout",
     "output_type": "stream",
     "text": [
      "[]\n"
     ]
    }
   ],
   "source": [
    "empty_list = []\n",
    "print(empty_list)"
   ]
  },
  {
   "cell_type": "markdown",
   "metadata": {},
   "source": [
    "Các phần tử trong list có thể có giá trị giống nhau."
   ]
  },
  {
   "cell_type": "code",
   "execution_count": 5,
   "metadata": {},
   "outputs": [
    {
     "name": "stdout",
     "output_type": "stream",
     "text": [
      "[1, 2, 2, 3, 3, 3]\n"
     ]
    }
   ],
   "source": [
    "duplicate_elements_list = [1, 2, 2, 3, 3, 3]\n",
    "print(duplicate_elements_list)"
   ]
  },
  {
   "cell_type": "markdown",
   "metadata": {},
   "source": [
    "Các phần tử trong list có thứ tự vì nó được lưu trữ theo thứ tự và có thể truy cập qua chỉ mục."
   ]
  },
  {
   "cell_type": "code",
   "execution_count": 6,
   "metadata": {},
   "outputs": [
    {
     "name": "stdout",
     "output_type": "stream",
     "text": [
      "a\n",
      "c\n"
     ]
    }
   ],
   "source": [
    "ordered_list = ['a', 'b', 'c', 'd']\n",
    "print(ordered_list[0])\n",
    "print(ordered_list[2])"
   ]
  },
  {
   "cell_type": "markdown",
   "metadata": {},
   "source": [
    "Ta có thể thay đổi giá trị của các phần tử trong list sau khi đã tạo nó, tính chất này sẽ được giải thích rõ hơn ở phần 3. Sửa đổi phần tử trong list. Ngoài ra list có thể chứa các phần tử thuộc các kiểu dữ liệu khác nhau."
   ]
  },
  {
   "cell_type": "code",
   "execution_count": 8,
   "metadata": {},
   "outputs": [
    {
     "name": "stdout",
     "output_type": "stream",
     "text": [
      "[1, 'hello', 3.14, True, [1, 2, 3]]\n"
     ]
    }
   ],
   "source": [
    "my_list = [1, \"hello\", 3.14, True, [1, 2, 3]]\n",
    "print(my_list)"
   ]
  },
  {
   "cell_type": "markdown",
   "metadata": {},
   "source": [
    "Chúng ta có thể ước lượng độ dài của list để xem list chứa bao nhiêu phần tử qua hàm len()."
   ]
  },
  {
   "cell_type": "code",
   "execution_count": 9,
   "metadata": {},
   "outputs": [
    {
     "name": "stdout",
     "output_type": "stream",
     "text": [
      "length list = 4\n"
     ]
    }
   ],
   "source": [
    "my_list = [\"apple\", \"banana\", \"durian\", \"orange\"]\n",
    "print(f\"length list = {len(my_list)}\")"
   ]
  },
  {
   "cell_type": "markdown",
   "metadata": {},
   "source": [
    "Để kiểm tra một biến có kiểu dữ liệu là list hay không, chúng ta sử dụng hàm type()."
   ]
  },
  {
   "cell_type": "code",
   "execution_count": 10,
   "metadata": {},
   "outputs": [
    {
     "name": "stdout",
     "output_type": "stream",
     "text": [
      "<class 'list'>\n"
     ]
    }
   ],
   "source": [
    "my_list = [\"Hoa\", \"Đào\", \"Cúc\"]\n",
    "print(type(my_list))"
   ]
  },
  {
   "cell_type": "markdown",
   "metadata": {},
   "source": [
    "## 2. Truy cập phần tử \n",
    "Truy cập các phần tử trong list là một thao tác cơ bản và quan trọng. Bạn có thể truy cập các phần tử này thông qua chỉ mục (index) hoặc sử dụng kỹ thuật slicing để lấy một phần của list."
   ]
  },
  {
   "cell_type": "markdown",
   "metadata": {},
   "source": [
    "### 2.1 Truy cập phần tử qua chỉ mục\n",
    "Mỗi phần tử trong list được xác định bởi một chỉ mục, bắt đầu từ 0 cho phần tử đầu tiên và tăng dần. Chúng ta cũng có thể dùng chỉ mục âm để truy cập phần tử từ cuối danh sách, ví dụ phần tử cuối cùng của list có index là -1. Chúng ta thường sử dụng chỉ mục để truy cập và thay đổi các phần tử trong list."
   ]
  },
  {
   "cell_type": "code",
   "execution_count": 12,
   "metadata": {},
   "outputs": [
    {
     "name": "stdout",
     "output_type": "stream",
     "text": [
      "First element: 10\n",
      "Third element: 30\n",
      "Last element: 50\n",
      "Second to last element: 40\n"
     ]
    }
   ],
   "source": [
    "# Indexing example\n",
    "my_list = [10, 20, 30, 40, 50]\n",
    "\n",
    "print(\"First element:\", my_list[0])\n",
    "print(\"Third element:\", my_list[2])\n",
    "print(\"Last element:\", my_list[-1])\n",
    "print(\"Second to last element:\", my_list[-2])\n"
   ]
  },
  {
   "cell_type": "markdown",
   "metadata": {},
   "source": [
    "### 2.2 Truy cập phần tử qua slicing\n",
    "Slicing cho phép bạn truy cập một phần của danh sách bằng cách sử dụng cú pháp [start:stop:step]. Trong đó, start là chỉ số bắt đầu, stop là chỉ số dừng và step là bước nhảy giữa các phần tử. Mặc định start là 0, stop là độ dài của danh sách và step là 1."
   ]
  },
  {
   "cell_type": "code",
   "execution_count": 13,
   "metadata": {},
   "outputs": [
    {
     "name": "stdout",
     "output_type": "stream",
     "text": [
      "Elements from second to fourth: [20, 30, 40]\n",
      "Elements from start to third: [10, 20, 30]\n",
      "Elements from third to end: [30, 40, 50]\n",
      "Elements with step of 2: [10, 30, 50]\n",
      "Elements in reverse order: [50, 40, 30, 20, 10]\n"
     ]
    }
   ],
   "source": [
    "# Slicing example\n",
    "my_list = [10, 20, 30, 40, 50]\n",
    "\n",
    "print(\"Elements from second to fourth:\", my_list[1:4])\n",
    "print(\"Elements from start to third:\", my_list[:3])\n",
    "print(\"Elements from third to end:\", my_list[2:])\n",
    "print(\"Elements with step of 2:\", my_list[::2])\n",
    "print(\"Elements in reverse order:\", my_list[::-1])\n"
   ]
  },
  {
   "cell_type": "markdown",
   "metadata": {},
   "source": [
    "Dưới đây là bảng tổng hợp về cách truy cập phần tử trong danh sách (list) bằng cách sử dụng chỉ mục và slicing trong Python:\n",
    "\n",
    "| Phương pháp     | Cú pháp            | Mô tả                                  | Ví dụ `my_list = [10, 20, 30, 40, 50]`                                                     |\n",
    "|-----------------|--------------------|----------------------------------------|------------------------------------------------------------|\n",
    "| Chỉ mục (Indexing) | `list[index]`      | Truy cập phần tử tại vị trí `index`        | `my_list[0]` => Truy cập phần tử đầu tiên: 10            |\n",
    "|                 |                    |                                        | `my_list[2]` => Truy cập phần tử thứ ba: 30               |\n",
    "|                 |                    |                                        | `my_list[-1]` => Truy cập phần tử cuối cùng: 50           |\n",
    "|                 |                    |                                        | `my_list[-2]` => Truy cập phần tử thứ hai từ cuối: 40     |\n",
    "| Slicing         | `list[start:stop]` | Truy cập các phần tử từ `start` đến `stop-1` | `my_list[1:4]` => Các phần tử từ thứ hai đến thứ tư: [20, 30, 40] |\n",
    "|                 | `list[:stop]`      | Truy cập các phần tử từ đầu đến `stop-1`   | `my_list[:3]` => Các phần tử từ đầu đến thứ ba: [10, 20, 30] |\n",
    "|                 | `list[start:]`     | Truy cập các phần tử từ `start` đến hết danh sách | `my_list[2:]` => Các phần tử từ thứ ba đến hết: [30, 40, 50] |\n",
    "|                 | `list[start:stop:step]` | Truy cập các phần tử từ `start` đến `stop-1` với bước nhảy `step` | `my_list[::2]` => Các phần tử với bước nhảy 2: [10, 30, 50] |\n",
    "|                 | `list[::-1]`       | Truy cập các phần tử theo thứ tự ngược lại | `my_list[::-1]` => Các phần tử theo thứ tự ngược: [50, 40, 30, 20, 10] |"
   ]
  },
  {
   "cell_type": "markdown",
   "metadata": {},
   "source": [
    "## 3. Sửa đổi giá trị phần tử\n",
    "\n",
    "Theo định nghĩa, các phần tử trong list có thể thay đổi được, tức là có thể thêm, sửa, xóa. Trong phần này sẽ trình bày hai cách cơ bản để sửa đổi giá trị phần tử trong list là:\n",
    "\n",
    "- Indexing: dùng để thay đổi một phần tử cụ thể.\n",
    "- Slicing: dùng để thay đổi một hoặc nhiều phần tử liên tiếp."
   ]
  },
  {
   "cell_type": "markdown",
   "metadata": {},
   "source": []
  },
  {
   "cell_type": "markdown",
   "metadata": {},
   "source": [
    "### 3.1 Sửa đổi giá trị phần tử theo indexing\n",
    "Bạn có thể thay đổi giá trị của một phần tử cụ thể trong danh sách bằng cách sử dụng chỉ mục của nó."
   ]
  },
  {
   "cell_type": "code",
   "execution_count": null,
   "metadata": {},
   "outputs": [],
   "source": [
    "my_list = [10, 20, 30, 40, 50]\n",
    "my_list[1] = 25  # Thay đổi phần tử thứ hai thành 25\n",
    "print(\"Modified list by index:\", my_list)  # Kết quả: [10, 25, 30, 40, 50]\n"
   ]
  },
  {
   "cell_type": "markdown",
   "metadata": {},
   "source": [
    "### 3.2 Sửa đổi giá trị phần tử theo slicing\n",
    "\n",
    "Slicing cho phép bạn thay đổi nhiều phần tử trong danh sách cùng một lúc bằng cách gán một danh sách mới cho một đoạn (slice) của danh sách hiện tại."
   ]
  },
  {
   "cell_type": "code",
   "execution_count": null,
   "metadata": {},
   "outputs": [],
   "source": [
    "my_list = [10, 20, 30, 40, 50]\n",
    "my_list[1:3] = [25, 35]  # Thay đổi các phần tử thứ hai và thứ ba\n",
    "print(\"Modified list by slicing:\", my_list)\n",
    "\n",
    "# Thay đổi nhiều phần tử hơn số lượng phần tử trong slicing\n",
    "my_list[2:4] = [33, 37, 39]  # Thay đổi các phần tử thứ ba và thứ tư, thêm một phần tử mới\n",
    "print(\"Modified list by extended slicing:\", my_list)\n"
   ]
  },
  {
   "cell_type": "markdown",
   "metadata": {},
   "source": [
    "Dưới đây là bảng tổng hợp về cách sửa đổi phần tử trong danh sách bằng chỉ mục và slicing trong Python:\n",
    "\n",
    "| Phương pháp         | Cú pháp                  | Mô tả                                                 | Ví dụ                                                      |\n",
    "|---------------------|--------------------------|-------------------------------------------------------|------------------------------------------------------------|\n",
    "| Sửa đổi theo chỉ mục (Indexing) | `list[index] = value`      | Thay đổi giá trị của phần tử tại vị trí `index`         | `my_list[1] = 25` => `my_list` trở thành `[10, 25, 30, 40, 50]` |\n",
    "| Sửa đổi theo slicing | `list[start:stop] = new_list` | Thay đổi các phần tử từ `start` đến `stop-1` với `new_list` | `my_list[1:3] = [25, 35]` => `my_list` trở thành `[10, 25, 35, 40, 50]` |\n",
    "|                     |                          |                                                       | `my_list[2:4] = [33, 37, 39]` => `my_list` trở thành `[10, 25, 33, 37, 39, 50]` |"
   ]
  },
  {
   "cell_type": "markdown",
   "metadata": {},
   "source": [
    "## 4. Thêm phần tử vào list\n",
    "\n",
    "Trong phần này, chúng ta tìm hiểu về ba cách để thêm phần tử mới vào danh sách:\n",
    "\n",
    "- Sử dụng phương thức append() thêm một phần tử vào cuối danh sách.\n",
    "\n",
    "- Sử dụng phương thức insert() thêm một phần tử vào vị trí chỉ định trong danh sách.\n",
    "\n",
    "- Sử dụng phương thức extend() thêm tất cả các phần tử của một iterable (như danh sách khác) vào cuối danh sách hiện tại."
   ]
  },
  {
   "cell_type": "code",
   "execution_count": 16,
   "metadata": {},
   "outputs": [
    {
     "name": "stdout",
     "output_type": "stream",
     "text": [
      "List after append: [10, 20, 30, 40]\n",
      "List after insert: [10, 15, 20, 30, 40]\n",
      "List after extend: [10, 15, 20, 30, 40, 50, 60]\n"
     ]
    }
   ],
   "source": [
    "my_list = [10, 20, 30]\n",
    "\n",
    "# Sử dụng append() để thêm phần tử vào cuối danh sách\n",
    "my_list.append(40)\n",
    "print(\"List after append:\", my_list)\n",
    "\n",
    "# Sử dụng insert() để thêm phần tử vào vị trí chỉ định\n",
    "my_list.insert(1, 15)  # Chèn phần tử 15 vào vị trí thứ hai\n",
    "print(\"List after insert:\", my_list)\n",
    "\n",
    "# Sử dụng extend() để thêm nhiều phần tử vào cuối danh sách\n",
    "my_list.extend([50, 60])\n",
    "print(\"List after extend:\", my_list)\n",
    "\n",
    "# Phép cộng\n",
    "list1 = [1, 2, 3]\n",
    "list2 = [4, 5, 6]\n",
    "concatenated_list = list1 + list2\n",
    "print(concatenated_list)  # Output: [1, 2, 3, 4, 5, 6]\n",
    "\n",
    "# Phép nhân\n",
    "original_list = [1, 2, 3]\n",
    "multiplied_list = original_list * 3\n",
    "print(multiplied_list)  # Output: [1, 2, 3, 1, 2, 3, 1, 2, 3]\n"
   ]
  },
  {
   "cell_type": "markdown",
   "metadata": {},
   "source": [
    "Dưới đây là bảng tổng hợp các phương pháp để thêm phần tử vào danh sách:\n",
    "\n",
    "| Phương pháp       | Cú pháp                      | Mô tả                                               | Ví dụ    `my_list = [10, 20, 30]`                                                |\n",
    "|-------------------|------------------------------|-----------------------------------------------------|-------------------------------------------------------------|\n",
    "| `append()`        | `list.append(element)`       | Thêm một phần tử vào cuối danh sách                 | `my_list.append(40)` => `[10, 20, 30, 40]`                  |\n",
    "| `insert()`        | `list.insert(index, element)`| Thêm một phần tử vào vị trí chỉ định trong danh sách| `my_list.insert(1, 15)` => `[10, 15, 20, 30]`               |\n",
    "| `extend()`        | `list.extend(iterable)`      | Thêm tất cả các phần tử của một iterable vào cuối danh sách| `my_list.extend([40, 50])` => `[10, 20, 30, 40, 50]` |\n",
    "| Phép cộng (`+`)  | `list1 + list2`              | Nối hai danh sách lại với nhau                      | `my_list + [40, 50]` => `[10, 20, 30, 40, 50]`              |\n",
    "| Phép nhân (`*`)  | `list * n`                   | Tạo một danh sách mới bằng cách lặp lại danh sách ban đầu n lần| `my_list * 2` => `[10, 20, 30, 10, 20, 30]`           |"
   ]
  },
  {
   "cell_type": "markdown",
   "metadata": {},
   "source": [
    "## 5. Xóa phần tử\n",
    "\n",
    "Để xóa phần tử trong list, chúng ta có thể xóa theo các cách sau:\n",
    "\n",
    "- Xóa phần tử theo giá trị\n",
    "- Xóa phần tử theo vị trí\n",
    "- Xóa toàn bộ tất cả phần tử trong list"
   ]
  },
  {
   "cell_type": "markdown",
   "metadata": {},
   "source": [
    "### 5.1. Xóa phần tử theo giá trị\n",
    "\n",
    "Chúng ta có thể sử dụng phương thức remove() để xóa phần tử đầu tiên có giá trị được chỉ định ra khỏi danh sách."
   ]
  },
  {
   "cell_type": "code",
   "execution_count": 17,
   "metadata": {},
   "outputs": [
    {
     "name": "stdout",
     "output_type": "stream",
     "text": [
      "List after remove: [10, 20, 40, 50, 30, 40]\n"
     ]
    }
   ],
   "source": [
    "my_list = [10, 20, 30, 40, 50, 30, 40]\n",
    "my_list.remove(30)  # Xóa phần tử có giá trị 30\n",
    "print(\"List after remove:\", my_list)"
   ]
  },
  {
   "cell_type": "markdown",
   "metadata": {},
   "source": [
    "### 5.2. Xóa phần tử theo vị trí\n",
    "Phương thức pop() và từ khóa del xóa phần tử tại vị trí chỉ định trong danh sách."
   ]
  },
  {
   "cell_type": "code",
   "execution_count": 18,
   "metadata": {},
   "outputs": [
    {
     "name": "stdout",
     "output_type": "stream",
     "text": [
      "Removed element: 30\n",
      "List after pop: [10, 20, 40, 50]\n"
     ]
    }
   ],
   "source": [
    "my_list = [10, 20, 30, 40, 50]\n",
    "removed_element = my_list.pop(2)  # Xóa phần tử tại vị trí thứ ba\n",
    "print(\"Removed element:\", removed_element)\n",
    "print(\"List after pop:\", my_list)"
   ]
  },
  {
   "cell_type": "markdown",
   "metadata": {},
   "source": [
    "Chúng ta cũng có thể sử dụng từ khóa del để xóa phần tử tại vị trí chỉ định trong list"
   ]
  },
  {
   "cell_type": "code",
   "execution_count": 22,
   "metadata": {},
   "outputs": [
    {
     "name": "stdout",
     "output_type": "stream",
     "text": [
      "List after del by index: [10, 30, 40, 50]\n",
      "List after del by slice: [100, 400, 500]\n"
     ]
    }
   ],
   "source": [
    "# Xóa theo indexing\n",
    "my_list = [10, 20, 30, 40, 50]\n",
    "del my_list[1]  # Xóa phần tử tại vị trí thứ hai\n",
    "print(\"List after del by index:\", my_list)\n",
    "\n",
    "# Xóa theo slicing\n",
    "my_list = [100, 200, 300, 400, 500] \n",
    "del my_list[1:3] \n",
    "print(\"List after del by slice:\", my_list)"
   ]
  },
  {
   "cell_type": "markdown",
   "metadata": {},
   "source": [
    "### 5.3 Xóa toàn bộ danh sách\n",
    "\n",
    "Có hai cách để xóa toàn bộ danh sách là:\n",
    "- Sử dụng từ khóa del\n",
    "- Sử dụng phương thức clear()\n",
    "\n",
    "Khi sử dụng từ khóa del thì toàn bộ list khỏi bộ nhớ máy tính, khi đó list không thể truy cập được nữa."
   ]
  },
  {
   "cell_type": "code",
   "execution_count": null,
   "metadata": {},
   "outputs": [],
   "source": [
    "# Xóa toàn bộ danh sách\n",
    "my_list = [10, 20, 30, 40, 50]\n",
    "del my_list\n",
    "# print(my_list)"
   ]
  },
  {
   "cell_type": "markdown",
   "metadata": {},
   "source": [
    "Khi sử dụng phương thức clear() nó sẽ xóa toàn bộ phần tử trong list, khi đó list sẽ rỗng nhwung vẫn truy cập được."
   ]
  },
  {
   "cell_type": "code",
   "execution_count": 20,
   "metadata": {},
   "outputs": [
    {
     "name": "stdout",
     "output_type": "stream",
     "text": [
      "List after clear: []\n"
     ]
    }
   ],
   "source": [
    "my_list = [10, 20, 30, 40, 50]\n",
    "my_list.clear()  # Xóa tất cả các phần tử trong danh sách\n",
    "print(\"List after clear:\", my_list)  # Kết quả: []"
   ]
  },
  {
   "cell_type": "markdown",
   "metadata": {},
   "source": [
    "Dưới đây là bảng tổng hợp các phương pháp xóa phần tử trong danh sách với các ví dụ sử dụng các danh sách khác nhau:\n",
    "\n",
    "| Nhóm                | Cú pháp                 | Mô tả                                               | Ví dụ                                     |\n",
    "|---------------------|-------------------------|-----------------------------------------------------|-------------------------------------------|\n",
    "| Xóa theo giá trị    | `list.remove(value)`    | Xóa phần tử đầu tiên có giá trị `value` trong danh sách | ```my_list = [1, 2, 3, 4, 5] my_list.remove(3) print(my_list)  # Kết quả: [1, 2, 4, 5]``` |\n",
    "| Xóa theo vị trí     | `list.pop(index)`       | Xóa và trả về phần tử tại vị trí `index` (hoặc phần tử cuối nếu không có `index`) | ```my_list = ['a', 'b', 'c', 'd'] removed_element = my_list.pop(2) print(my_list)  # Kết quả: ['a', 'b', 'd'] print(removed_element)  # Kết quả: 'c'``` |\n",
    "|                     | `del list[index]`       | Xóa phần tử tại vị trí chỉ định trong danh sách     | ```my_list = [10, 20, 30, 40, 50] del my_list[1] print(my_list)  # Kết quả: [10, 30, 40, 50]``` |\n",
    "|                     | `del list[start:end]`   | Xóa các phần tử từ vị trí `start` đến `end-1`       | ```my_list = [100, 200, 300, 400, 500] del my_list[1:3] print(my_list)  # Kết quả: [100, 400, 500]``` |\n",
    "| Xóa tất cả phần tử  | `list.clear()`          | Xóa tất cả các phần tử trong danh sách              | ```my_list = ['apple', 'banana', 'cherry'] my_list.clear() print(my_list)  # Kết quả: []``` |\n",
    "| Xóa toàn bộ danh sách | `del list`              | Xóa toàn bộ danh sách                               | ```my_list = [1, 2, 3, 4, 5] del my_list # print(my_list)  # Sẽ gây lỗi vì my_list đã bị xóa``` |"
   ]
  },
  {
   "cell_type": "markdown",
   "metadata": {},
   "source": [
    "## 6. Tìm kiếm phần tử\n",
    "\n",
    "Trong Python, chúng ta có thể tìm kiếm phần tử trong danh sách bằng cách sử dụng phương thức index() hoặc sử dụng từ khóa in. Ngoài ra chúng ta có thể sử dụng vòng lặp, phương thức count() hoặc hàm any()."
   ]
  },
  {
   "cell_type": "markdown",
   "metadata": {},
   "source": [
    "### Sử dụng phương thức index()\n",
    "\n",
    "Phương thức này trả về vị trí đầu tiên của phần tử có giá trị cụ thể trong danh sách. Nếu phần tử không tồn tại, sẽ gây ra lỗi ValueError."
   ]
  },
  {
   "cell_type": "code",
   "execution_count": 23,
   "metadata": {},
   "outputs": [
    {
     "name": "stdout",
     "output_type": "stream",
     "text": [
      "Index of 30 : 2\n"
     ]
    }
   ],
   "source": [
    "my_list = [10, 20, 30, 40, 50]\n",
    "value_to_find = 30\n",
    "try:\n",
    "    index = my_list.index(value_to_find)\n",
    "    print(\"Index of\", value_to_find, \":\", index)\n",
    "except ValueError:\n",
    "    print(value_to_find, \"not found in the list\")"
   ]
  },
  {
   "cell_type": "markdown",
   "metadata": {},
   "source": [
    "### Sử dụng từ khóa in\n",
    "\n",
    "Bạn có thể sử dụng từ khóa in để kiểm tra xem một phần tử cụ thể có tồn tại trong danh sách hay không. Kết quả trả về là True nếu phần tử tồn tại và False nếu không tồn tại."
   ]
  },
  {
   "cell_type": "code",
   "execution_count": 24,
   "metadata": {},
   "outputs": [
    {
     "name": "stdout",
     "output_type": "stream",
     "text": [
      "30 found in the list\n"
     ]
    }
   ],
   "source": [
    "my_list = [10, 20, 30, 40, 50]\n",
    "value_to_find = 30\n",
    "if value_to_find in my_list:\n",
    "    print(value_to_find, \"found in the list\")\n",
    "else:\n",
    "    print(value_to_find, \"not found in the list\")"
   ]
  },
  {
   "cell_type": "markdown",
   "metadata": {},
   "source": [
    "### Sử dụng vòng lặp for\n",
    "Duyệt qua danh sách và so sánh từng phần tử với giá trị tìm kiếm. Nếu phần tử được tìm thấy, bạn có thể lấy vị trí của nó."
   ]
  },
  {
   "cell_type": "code",
   "execution_count": 25,
   "metadata": {},
   "outputs": [
    {
     "name": "stdout",
     "output_type": "stream",
     "text": [
      "Index of 30 : 2\n"
     ]
    }
   ],
   "source": [
    "my_list = [10, 20, 30, 40, 50]\n",
    "value_to_find = 30\n",
    "for index, value in enumerate(my_list):\n",
    "    if value == value_to_find:\n",
    "        print(\"Index of\", value_to_find, \":\", index)\n",
    "        break\n",
    "else:\n",
    "    print(value_to_find, \"not found in the list\")"
   ]
  },
  {
   "cell_type": "markdown",
   "metadata": {},
   "source": [
    "### Sử dụng phương thức count()\n",
    "\n",
    "Phương thức này trả về số lần xuất hiện của một phần tử trong danh sách."
   ]
  },
  {
   "cell_type": "code",
   "execution_count": 27,
   "metadata": {},
   "outputs": [
    {
     "name": "stdout",
     "output_type": "stream",
     "text": [
      "Count of 30 : 2\n"
     ]
    }
   ],
   "source": [
    "my_list = [10, 20, 30, 40, 30, 50]\n",
    "value_to_find = 30\n",
    "count = my_list.count(value_to_find)\n",
    "print(\"Count of\", value_to_find, \":\", count)"
   ]
  },
  {
   "cell_type": "markdown",
   "metadata": {},
   "source": [
    "### Sử dụng hàm any()\n",
    "Hàm này trả về True nếu có ít nhất một phần tử trong danh sách thỏa mãn một điều kiện nào đó, ngược lại trả về False."
   ]
  },
  {
   "cell_type": "code",
   "execution_count": 28,
   "metadata": {},
   "outputs": [
    {
     "name": "stdout",
     "output_type": "stream",
     "text": [
      "Any item greater than 30: True\n"
     ]
    }
   ],
   "source": [
    "my_list = [10, 20, 30, 40, 50]\n",
    "condition = any(item > 30 for item in my_list)\n",
    "print(\"Any item greater than 30:\", condition)  # Kết quả: Any item greater than 30: True"
   ]
  },
  {
   "cell_type": "markdown",
   "metadata": {},
   "source": [
    "Dưới đây là bảng tổng hợp các phương pháp tìm kiếm phần tử trong danh sách trong Python:\n",
    "\n",
    "| Phương pháp               | Cú pháp                     | Mô tả                                                         |\n",
    "|---------------------------|-----------------------------|---------------------------------------------------------------|\n",
    "| `index(value)`            | `list_name.index(value)`    | Trả về vị trí của phần tử đầu tiên có giá trị `value` trong danh sách. Nếu không tìm thấy, gây ra lỗi `ValueError`. |\n",
    "| `in`                      | `value in list_name`        | Kiểm tra xem một phần tử cụ thể có tồn tại trong danh sách hay không. Trả về `True` nếu tồn tại và `False` nếu không tồn tại. |\n",
    "| Vòng lặp(`for`, `while`)  |                             | Duyệt qua danh sách và so sánh từng phần tử với giá trị tìm kiếm. Nếu phần tử được tìm thấy, bạn có thể lấy vị trí của nó. |\n",
    "| `count(value)`            | `list_name.count(value)`    | Trả về số lần xuất hiện của một phần tử có giá trị cụ thể trong danh sách. |\n",
    "| `any(condition)`         | `any(item for item in list_name if condition)` | Trả về `True` nếu có ít nhất một phần tử trong danh sách thỏa mãn điều kiện `condition`, ngược lại trả về `False`. |"
   ]
  },
  {
   "cell_type": "markdown",
   "metadata": {},
   "source": [
    "## 7. Sắp xếp các phần tử trong list\n",
    "\n",
    "Sắp xếp danh sách là quá trình sắp xếp các phần tử trong danh sách theo một thứ tự nhất định. Trong Python, có nhiều cách để thực hiện việc sắp xếp danh sách, bao gồm sử dụng vòng lặp, phương thức sort(), hàm sorted(), và phương thức reverse()."
   ]
  },
  {
   "cell_type": "markdown",
   "metadata": {},
   "source": []
  },
  {
   "cell_type": "markdown",
   "metadata": {},
   "source": [
    "### 7.1 Sắp xếp phần tử sử dụng vòng lặp\n",
    "\n",
    "Chúng ta hoàn toàn có thể sử dụng vòng lặp để duyệt phần tử trong list và sắp xếp chúng."
   ]
  },
  {
   "cell_type": "code",
   "execution_count": 29,
   "metadata": {},
   "outputs": [
    {
     "name": "stdout",
     "output_type": "stream",
     "text": [
      "Sorted list using loop: [1, 1, 2, 3, 3, 4, 5, 5, 6, 9]\n"
     ]
    }
   ],
   "source": [
    "my_list = [3, 1, 4, 1, 5, 9, 2, 6, 5, 3]\n",
    "sorted_list = []\n",
    "while my_list:\n",
    "    min_value = min(my_list)\n",
    "    sorted_list.append(min_value)\n",
    "    my_list.remove(min_value)\n",
    "print(\"Sorted list using loop:\", sorted_list)"
   ]
  },
  {
   "cell_type": "markdown",
   "metadata": {},
   "source": [
    "### 7.2 Sắp xếp phần tử sử dụng phương thức `sort()`\n",
    "\n",
    "Chúng ta có thể sử dụng phương thức sort() để sắp xếp danh sách trong chính nó."
   ]
  },
  {
   "cell_type": "code",
   "execution_count": 30,
   "metadata": {},
   "outputs": [
    {
     "name": "stdout",
     "output_type": "stream",
     "text": [
      "Sorted list using sort(): [1, 1, 2, 3, 3, 4, 5, 5, 6, 9]\n"
     ]
    }
   ],
   "source": [
    "my_list = [3, 1, 4, 1, 5, 9, 2, 6, 5, 3]\n",
    "my_list.sort()\n",
    "print(\"Sorted list using sort():\", my_list)"
   ]
  },
  {
   "cell_type": "markdown",
   "metadata": {},
   "source": [
    "### 7.3 Sắp xếp phần tử sử dụng hàm `sorted()`\n",
    "Ta có thể sử dụng hàm sorted() để tạo `một danh sách mới` chứa các phần tử đã sắp xếp từ danh sách ban đầu. Đây là sự khác biệt so với phương thức sort() sắp xếp trực tiếp trên list, còn sorted() trả về list mới. Khi sử dụng thì tùy trường hợp mà các bạn chọn để tối ưu chương trình."
   ]
  },
  {
   "cell_type": "code",
   "execution_count": 31,
   "metadata": {},
   "outputs": [
    {
     "name": "stdout",
     "output_type": "stream",
     "text": [
      "Sorted list using sorted(): [1, 1, 2, 3, 3, 4, 5, 5, 6, 9]\n"
     ]
    }
   ],
   "source": [
    "my_list = [3, 1, 4, 1, 5, 9, 2, 6, 5, 3]\n",
    "sorted_list = sorted(my_list)\n",
    "print(\"Sorted list using sorted():\", sorted_list)"
   ]
  },
  {
   "cell_type": "markdown",
   "metadata": {},
   "source": [
    "### 7.4 Đảo ngược thứ tự các phần tử trong danh sách\n",
    "\n",
    "Đôi khi việc sắp xếp đơn giản là chỉ muốn đảo ngược lại vị trí các phần tử, chúng ta có thể sử dụng phương thức reverse() để đảo ngược thứ tự các phần tử trong danh sách."
   ]
  },
  {
   "cell_type": "code",
   "execution_count": 32,
   "metadata": {},
   "outputs": [
    {
     "name": "stdout",
     "output_type": "stream",
     "text": [
      "Reversed list: [3, 5, 6, 2, 9, 5, 1, 4, 1, 3]\n"
     ]
    }
   ],
   "source": [
    "my_list = [3, 1, 4, 1, 5, 9, 2, 6, 5, 3]\n",
    "my_list.reverse()\n",
    "print(\"Reversed list:\", my_list)"
   ]
  },
  {
   "cell_type": "markdown",
   "metadata": {},
   "source": [
    "Dưới đây là bảng tổng hợp các phương pháp sắp xếp phần tử trong danh sách:\n",
    "\n",
    "| Phương pháp               | Cú pháp                    | Mô tả                                                         |\n",
    "|---------------------------|----------------------------|---------------------------------------------------------------|\n",
    "| `sort()`                  | `list_name.sort()`         | Sắp xếp danh sách trong chính nó theo một thứ tự nhất định.   |\n",
    "| `sorted()`                | `sorted_list = sorted(list_name)` | Tạo một danh sách mới chứa các phần tử đã sắp xếp từ danh sách ban đầu. |\n",
    "| `reverse()`               | `list_name.reverse()`      | Đảo ngược thứ tự các phần tử trong danh sách.                 |\n",
    "| Sử dụng vòng lặp          |                            | Duyệt qua danh sách và thực hiện sắp xếp các phần tử.        |\n",
    "\n",
    "Hầu hết các phương pháp trên đều là các hàm hoặc phương thức đã có sẵn, các bạn chỉ cần học cách sử dụng chúng. Các bạn có thể luyện tập thêm bằng cách tự tìm hiểu và lập trình những thuật toán cơ bản về sắp xếp... cũng khá thú vị đó."
   ]
  },
  {
   "cell_type": "markdown",
   "metadata": {},
   "source": [
    "## 8. List comprehension\n",
    "\n",
    "List comprehension là một cú pháp trong Python cho phép bạn tạo một danh sách mới một cách nhanh chóng và dễ đọc từ một danh sách có sẵn. Cú pháp của list comprehension rất ngắn gọn và mạnh mẽ.\n",
    "\n",
    "Cú pháp chung của list comprehension là:\n",
    "\n",
    "```\n",
    "new_list = [expression for item in iterable if condition]\n",
    "```\n",
    "\n",
    "Trong đó:\n",
    "- `expression` là biểu thức được tính toán cho mỗi phần tử trong `iterable`.\n",
    "- `item` là phần tử hiện tại trong `iterable`.\n",
    "- `iterable` là một đối tượng có thể lặp lại như danh sách, bộ hoặc chuỗi.\n",
    "- `condition` là một biểu thức điều kiện để lọc các phần tử (tùy chọn)."
   ]
  },
  {
   "cell_type": "code",
   "execution_count": 2,
   "metadata": {},
   "outputs": [
    {
     "name": "stdout",
     "output_type": "stream",
     "text": [
      "squares:  [0, 1, 4, 9, 16, 25, 36, 49, 64, 81]\n",
      "even_numbers:  [0, 2, 4, 6, 8]\n",
      "pairs:  [(1, 3), (1, 4), (2, 3), (2, 1), (2, 4), (3, 1), (3, 4)]\n"
     ]
    }
   ],
   "source": [
    "# Tạo một danh sách chứa bình phương của các số từ 0 đến 9\n",
    "squares = [x**2 for x in range(10)]\n",
    "print(\"squares: \",squares)\n",
    "\n",
    "# Lọc các số chẵn từ 0 đến 9\n",
    "even_numbers = [x for x in range(10) if x % 2 == 0]\n",
    "print(\"even_numbers: \", even_numbers)\n",
    "\n",
    "# Kết hợp hai danh sách thành một danh sách kết quả\n",
    "pairs = [(x, y) for x in [1, 2, 3] for y in [3, 1, 4] if x != y]\n",
    "print(\"pairs: \", pairs)"
   ]
  },
  {
   "cell_type": "markdown",
   "metadata": {},
   "source": [
    "## 8. Các lỗi thường gặp khi sử dụng List"
   ]
  },
  {
   "cell_type": "markdown",
   "metadata": {},
   "source": [
    "### 9.1. Lỗi cú pháp"
   ]
  },
  {
   "cell_type": "code",
   "execution_count": 33,
   "metadata": {},
   "outputs": [
    {
     "ename": "SyntaxError",
     "evalue": "invalid syntax. Perhaps you forgot a comma? (1925423676.py, line 2)",
     "output_type": "error",
     "traceback": [
      "\u001b[1;36m  Cell \u001b[1;32mIn[33], line 2\u001b[1;36m\u001b[0m\n\u001b[1;33m    my_list = [1, 2, 3\u001b[0m\n\u001b[1;37m                     ^\u001b[0m\n\u001b[1;31mSyntaxError\u001b[0m\u001b[1;31m:\u001b[0m invalid syntax. Perhaps you forgot a comma?\n"
     ]
    }
   ],
   "source": [
    "# Sai cú pháp khi khai báo danh sách\n",
    "my_list = [1, 2, 3\n",
    "\n",
    "# Sử dụng sai cú pháp trong các phương thức của danh sách\n",
    "my_list.append(4)\n",
    "my_list.insert(1, 5\n"
   ]
  },
  {
   "cell_type": "markdown",
   "metadata": {},
   "source": [
    "### 8.2. Lỗi chỉ mục (Index Error)"
   ]
  },
  {
   "cell_type": "code",
   "execution_count": 34,
   "metadata": {},
   "outputs": [
    {
     "ename": "IndexError",
     "evalue": "list index out of range",
     "output_type": "error",
     "traceback": [
      "\u001b[1;31m---------------------------------------------------------------------------\u001b[0m",
      "\u001b[1;31mIndexError\u001b[0m                                Traceback (most recent call last)",
      "Cell \u001b[1;32mIn[34], line 2\u001b[0m\n\u001b[0;32m      1\u001b[0m my_list \u001b[38;5;241m=\u001b[39m [\u001b[38;5;241m1\u001b[39m, \u001b[38;5;241m2\u001b[39m, \u001b[38;5;241m3\u001b[39m]\n\u001b[1;32m----> 2\u001b[0m \u001b[38;5;28mprint\u001b[39m(\u001b[43mmy_list\u001b[49m\u001b[43m[\u001b[49m\u001b[38;5;241;43m3\u001b[39;49m\u001b[43m]\u001b[49m)\n",
      "\u001b[1;31mIndexError\u001b[0m: list index out of range"
     ]
    }
   ],
   "source": [
    "my_list = [1, 2, 3]\n",
    "print(my_list[3])"
   ]
  },
  {
   "cell_type": "markdown",
   "metadata": {},
   "source": [
    "### 8.3 Lỗi kiểu dữ liệu (Type Error)"
   ]
  },
  {
   "cell_type": "code",
   "execution_count": 36,
   "metadata": {},
   "outputs": [
    {
     "ename": "TypeError",
     "evalue": "can only concatenate list (not \"int\") to list",
     "output_type": "error",
     "traceback": [
      "\u001b[1;31m---------------------------------------------------------------------------\u001b[0m",
      "\u001b[1;31mTypeError\u001b[0m                                 Traceback (most recent call last)",
      "Cell \u001b[1;32mIn[36], line 2\u001b[0m\n\u001b[0;32m      1\u001b[0m my_list \u001b[38;5;241m=\u001b[39m [\u001b[38;5;241m1\u001b[39m, \u001b[38;5;241m2\u001b[39m, \u001b[38;5;241m3\u001b[39m]\n\u001b[1;32m----> 2\u001b[0m \u001b[38;5;28mprint\u001b[39m(\u001b[43mmy_list\u001b[49m\u001b[43m \u001b[49m\u001b[38;5;241;43m+\u001b[39;49m\u001b[43m \u001b[49m\u001b[38;5;241;43m4\u001b[39;49m)  \u001b[38;5;66;03m# TypeError: can only concatenate list (not \"int\") to list\u001b[39;00m\n",
      "\u001b[1;31mTypeError\u001b[0m: can only concatenate list (not \"int\") to list"
     ]
    }
   ],
   "source": [
    "my_list = [1, 2, 3]\n",
    "print(my_list + 4)  # TypeError: can only concatenate list (not \"int\") to list"
   ]
  },
  {
   "cell_type": "markdown",
   "metadata": {},
   "source": [
    "### 8.4 Lỗi logic"
   ]
  },
  {
   "cell_type": "code",
   "execution_count": 38,
   "metadata": {},
   "outputs": [
    {
     "name": "stdout",
     "output_type": "stream",
     "text": [
      "2\n",
      "3\n"
     ]
    },
    {
     "ename": "IndexError",
     "evalue": "list index out of range",
     "output_type": "error",
     "traceback": [
      "\u001b[1;31m---------------------------------------------------------------------------\u001b[0m",
      "\u001b[1;31mIndexError\u001b[0m                                Traceback (most recent call last)",
      "Cell \u001b[1;32mIn[38], line 3\u001b[0m\n\u001b[0;32m      1\u001b[0m my_list \u001b[38;5;241m=\u001b[39m [\u001b[38;5;241m1\u001b[39m, \u001b[38;5;241m2\u001b[39m, \u001b[38;5;241m3\u001b[39m]\n\u001b[0;32m      2\u001b[0m \u001b[38;5;28;01mfor\u001b[39;00m i \u001b[38;5;129;01min\u001b[39;00m \u001b[38;5;28mrange\u001b[39m(\u001b[38;5;28mlen\u001b[39m(my_list)):\n\u001b[1;32m----> 3\u001b[0m     \u001b[38;5;28mprint\u001b[39m(\u001b[43mmy_list\u001b[49m\u001b[43m[\u001b[49m\u001b[43mi\u001b[49m\u001b[43m \u001b[49m\u001b[38;5;241;43m+\u001b[39;49m\u001b[43m \u001b[49m\u001b[38;5;241;43m1\u001b[39;49m\u001b[43m]\u001b[49m)  \u001b[38;5;66;03m# IndexError: list index out of range\u001b[39;00m\n",
      "\u001b[1;31mIndexError\u001b[0m: list index out of range"
     ]
    }
   ],
   "source": [
    "my_list = [1, 2, 3]\n",
    "for i in range(len(my_list)):\n",
    "    print(my_list[i + 1])  # IndexError: list index out of range"
   ]
  }
 ],
 "metadata": {
  "kernelspec": {
   "display_name": "aio2024_env",
   "language": "python",
   "name": "python3"
  },
  "language_info": {
   "codemirror_mode": {
    "name": "ipython",
    "version": 3
   },
   "file_extension": ".py",
   "mimetype": "text/x-python",
   "name": "python",
   "nbconvert_exporter": "python",
   "pygments_lexer": "ipython3",
   "version": "3.10.14"
  }
 },
 "nbformat": 4,
 "nbformat_minor": 2
}
